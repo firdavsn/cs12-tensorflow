{
 "cells": [
  {
   "cell_type": "markdown",
   "metadata": {},
   "source": [
    "# Lab 0: Introduction\n",
    "\n",
    "This lab is mainly for setup and assesses if you are prepared for CS 12: TensorFlow."
   ]
  },
  {
   "cell_type": "markdown",
   "metadata": {},
   "source": [
    "## Section 0: Setup & Git Basics\n",
    "Read (and do) the setup as instructed on the class webpage:\n",
    "https://www.its.caltech.edu/~sggupta/setup.html.\n",
    "\n",
    "Important things:\n",
    "- Make sure to **duplicate** the repository, do not **fork** it.\n",
    "- If you have already done this, reread the setup page and ensure everything works. (Also check that your GitHub repo is not a fork please)\n",
    "- It is very important that you give the instructors access to your repo. We cannot grade if you do not do this.\n",
    "  \n",
    "Now make and push a text file in the `lab_0_introduction` folder with a fun message for us.\n",
    "- Make sure that this file is added in its own commit.\n",
    "- Either use command line instructions (`git add`, `git commit`, `git push`) or use a visual git interface. (GitHub desktop, VSCode source control, etc)\n",
    "  - Do not upload the file using the interface on github.com."
   ]
  },
  {
   "cell_type": "markdown",
   "metadata": {},
   "source": [
    "## Section 1: Formatting & Style\n",
    "\n",
    "Oh no! Ben Bitfiddle hasn't written any Python code since CS 1! Help him rewrite the functions below into something reasonable."
   ]
  },
  {
   "cell_type": "code",
   "execution_count": 3,
   "metadata": {},
   "outputs": [],
   "source": [
    "# Import essential libraries\n",
    "import random\n",
    "import string\n",
    "import inspect"
   ]
  },
  {
   "cell_type": "code",
   "execution_count": 16,
   "metadata": {},
   "outputs": [],
   "source": [
    "# Ben Bitfiddle wanted to make a function so he could add numbers together.\n",
    "# TODO: Refactor this code. \n",
    "def add(x,y):\n",
    "    return x + y\n",
    "\n",
    "# Ben has made an interesting choice for his sorting function...\n",
    "# TODO: Clean up the spacing/formatting.\n",
    "def bogosort(array):\n",
    "    while(array != sorted(array)):\n",
    "        random.shuffle(array)\n",
    "    return array\n",
    "   \n",
    "# Mr Bitfiddle wanted to make an array ranging from 1 to 13.\n",
    "# TODO: Isn't there an easy way to do this in Python...?\n",
    "def make_data():\n",
    "    return list(range(1, 14))\n",
    "  \n",
    "# Ben was tired of seeing Camelcasing in Python so he wrote a helpful function.\n",
    "# But wait, don't his variables look weird...?\n",
    "# TODO: Change Camel case names into Snake case.\n",
    "# Brownie points if you can rewrite this in one line. Hint: Use regexes.\n",
    "def convert_camel_to_snake(sss):\n",
    "    upper_case = string.ascii_uppercase\n",
    "    split_string = [\"filler\"]\n",
    "    prev_upper = 0\n",
    "    for index in range(len(sss)):\n",
    "        if sss[index] in upper_case:\n",
    "            split_string.pop()\n",
    "            split_string += [sss[prev_upper:index], sss[index:len(sss)]]\n",
    "            prev_upper = index\n",
    "    final_joined_string = '_'.join([word.lower() for word in split_string])\n",
    "    return final_joined_string\n"
   ]
  },
  {
   "cell_type": "code",
   "execution_count": 17,
   "metadata": {},
   "outputs": [
    {
     "name": "stdout",
     "output_type": "stream",
     "text": [
      "1 + 5 = 6\n",
      "Oh boy it's sorted:\n",
      "\t[1, 2, 3, 4, 5, 6, 7, 8, 9]\n",
      "Data!:\n",
      "\t[1, 2, 3, 4, 5, 6, 7, 8, 9, 10, 11, 12, 13]\n",
      "Hmm wait...\n",
      "\tfiller\n"
     ]
    }
   ],
   "source": [
    "# NOTE: Just to see the output; no work to do here.\n",
    "\n",
    "print(\"1 + 5 =\", add(1, 5))\n",
    "\n",
    "print(\"Oh boy it's sorted:\\n\\t\", bogosort([2, 4, 6, 8, 9, 7, 5, 3, 1]), sep=\"\")\n",
    "\n",
    "print(\"Data!:\\n\\t\", make_data(), sep=\"\")\n",
    "\n",
    "print(\"Hmm wait...\\n\", \"\\t\" + convert_camel_to_snake(inspect.getsource(convert_camel_to_snake)).replace(\"\\n\", \"\\n\\t\"), sep=\"\")"
   ]
  },
  {
   "cell_type": "markdown",
   "metadata": {},
   "source": [
    "## Section 2: Documentation Scavenger Hunt\n",
    "\n",
    "Reading documentation will be very helpful if not essential to doing well in the class. \n",
    "\n",
    "### 2.1: TensorFlow Docs\n",
    "For TensorFlow, documentation can be found at https://www.tensorflow.org/api_docs/python. Do the following in comments below.\n",
    "\n",
    "- Find the following functions in the API and describe their use (one short sentence is good).\n",
    "  - `tf.math.erf`\n",
    "  - `tf.print`\n",
    "  - `tf.nn.weighted_cross_entropy_with_logits`\n",
    "  \n",
    "- Find functions that do the following (you don't need to use them just give the name):\n",
    "  - Flip an image horizontally (left to right).\n",
    "  - Fast Fourier transform.\n",
    "  - Casts a tensor to a new type.\n",
    "\n",
    "- List all of the types used in TensorFlow (`tf.dtypes`)."
   ]
  },
  {
   "cell_type": "markdown",
   "metadata": {},
   "source": [
    "#### Describe the functions:\n",
    "- `tf.math.erf`: Computes the Gauss error function of x element-wise.\n",
    "- `tf.print`: Print the specified inputs.\n",
    "- `tf.nn.weighted_cross_entropy_with_logits`: Computes a weighted cross entropy.\n",
    "\n",
    "\n",
    "\n",
    "#### Find the functions:\n",
    "\n",
    "- Flip an image horizontally (left to right). => `tf.image.flip_left_right`\n",
    "- Fast Fourier transform. => `tf.signal.fft`\n",
    "- Casts a tensor to a new type. => `tf.cast`\n",
    "\n",
    "\n",
    "\n",
    "#### List the types:\n",
    "`[{tf.qint16, tf.qint16_ref, tf.qint32, tf.qint32_ref, tf.qint8, tf.qint8_ref, tf.quint16, tf.quint16_ref, tf.quint8, tf.quint8_ref}, bfloat16, bool, complex128, complex64, double, float16, float32, float64, half, int16, int32, int64, int8, qint16, qint32, qint8, quint16, quint8, resource, string, uint16, uint32, uint64, uint8, variant]`\n"
   ]
  },
  {
   "cell_type": "markdown",
   "metadata": {},
   "source": [
    "### 2.2: Python Docs\n",
    "The actual docs are here: https://docs.python.org/3/, but you may find this more useful: https://python-reference.readthedocs.io/.\n",
    "\n",
    "- Explain what a list comprehension is, and make one to list the first 10 squares.\n",
    "- Make a class called `ComplexNum` which can store the value of a complex number. \n",
    "  - Implement `__add__`, `__mul__`, and `__str__`."
   ]
  },
  {
   "cell_type": "code",
   "execution_count": 20,
   "metadata": {},
   "outputs": [
    {
     "name": "stdout",
     "output_type": "stream",
     "text": [
      "[1, 4, 9, 16, 25, 36, 49, 64, 81, 100]\n"
     ]
    }
   ],
   "source": [
    "# TODO: Make a comprehension for the first 10 squares\n",
    "# List comprehension: Returns a list based on existing iterables.\n",
    "sq_lst = [n*n for n in range (1, 11)]\n",
    "print(sq_lst)"
   ]
  },
  {
   "cell_type": "code",
   "execution_count": 27,
   "metadata": {},
   "outputs": [
    {
     "name": "stdout",
     "output_type": "stream",
     "text": [
      "(-17+7j)\n",
      "-17+7j\n"
     ]
    }
   ],
   "source": [
    "# TODO: Make the `ComplexNum` class\n",
    "class ComplexNum:\n",
    "    def __init__(self, a, b):\n",
    "        self.a = a\n",
    "        self.b = b\n",
    "    \n",
    "    def __add__(self, other):\n",
    "        return ComplexNum(self.a + other.a, self.b + other.b)\n",
    "    \n",
    "    def __mul__(self, other):\n",
    "        return ComplexNum(self.a*other.a - self.b*other.b, self.a*other.b + self.b*other.a)\n",
    "    \n",
    "    def __str__(self):\n",
    "        if self.b == 0:\n",
    "            return self.a\n",
    "        if self.a == 0:\n",
    "            return f\"{self.b}j\"\n",
    "        if self.b < 0:\n",
    "            return f\"{self.a}-{self.b}j\"\n",
    "        else:\n",
    "            return f\"{self.a}+{self.b}j\"\n",
    "\n",
    "# Native Python complex numbers \n",
    "a = 2 + 3j\n",
    "b = -2 + 5j\n",
    "print(a * b + a)\n",
    "\n",
    "# Your complex numbers\n",
    "a = ComplexNum(2, 3)\n",
    "b = ComplexNum(-2, 5)\n",
    "print(a * b + a)"
   ]
  },
  {
   "cell_type": "markdown",
   "metadata": {},
   "source": [
    "## Section 3: Tips To Remember \n",
    "- Read the [documentation](https://www.tensorflow.org/api_docs/python/tf) for functions you don't understand.\n",
    "- Read the notes for every lab before starting.\n",
    "  - The lecture notes have useful code to use, just make sure to actually change it so it works for the situation.\n",
    "  - It will be almost impossible to do this class without the notes.\n",
    "- Read all instructions on the assignments carefully. You can easily lose a lot of points if you forget to do something simple **like assigning TensorFlow names to your variables**.\n",
    "- Experiment with hyperparameters if your model does not train well.\n",
    "- Join the discord and check it often _(this is required)_."
   ]
  },
  {
   "cell_type": "code",
   "execution_count": null,
   "metadata": {},
   "outputs": [],
   "source": []
  }
 ],
 "metadata": {
  "kernelspec": {
   "display_name": "Python 3 (ipykernel)",
   "language": "python",
   "name": "python3"
  },
  "language_info": {
   "codemirror_mode": {
    "name": "ipython",
    "version": 3
   },
   "file_extension": ".py",
   "mimetype": "text/x-python",
   "name": "python",
   "nbconvert_exporter": "python",
   "pygments_lexer": "ipython3",
   "version": "3.10.10"
  }
 },
 "nbformat": 4,
 "nbformat_minor": 2
}
