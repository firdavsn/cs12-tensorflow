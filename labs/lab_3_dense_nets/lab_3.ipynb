{
  "cells": [
    {
      "cell_type": "markdown",
      "metadata": {
        "id": "FfbHPW84cyRa"
      },
      "source": [
        "# Lab 3: Mapping with Fully-Connected Networks\n",
        "Blocks of dense layers are really good at memorizing patterns.\n",
        "This week we'll step outside the traditional \"prediction\" regime of machine learning and use a fully-connected network (FCN) to represent a 2-D scene in its weight by interpolating between known points.\n",
        "\n",
        "Throughout, you should be impressed by two (related) properties of dense neural nets:\n",
        " - They have high enough capacity to entirely memorize complex patterns\n",
        " - They are sufficiently nonlinear to build these patterns up from simple inputs (like (x, y) coordinates in this case)"
      ]
    },
    {
      "cell_type": "code",
      "execution_count": 1,
      "metadata": {
        "id": "04-8ARKVcyRc"
      },
      "outputs": [],
      "source": [
        "%matplotlib inline\n",
        "\n",
        "import numpy as np\n",
        "import tensorflow as tf\n",
        "import matplotlib.pyplot as plt"
      ]
    },
    {
      "cell_type": "markdown",
      "metadata": {
        "id": "5CM8fxOPcyRd"
      },
      "source": [
        "# Pointcloud mapping\n",
        "\n",
        "![full scene](./images/full_scene.png)\n",
        "\n",
        "### The problem\n",
        "Imagine there is a square (2-D) room with four walls and several square and circular objects in it.\n",
        "We put laser distance sensors around the room, which shoot rays that continue until they hit an object or a wall and report the distance, with limited angular and radial resolution.\n",
        "We want to use this limited data to produce a full 2-D reconstruction of the scene, filling in points the sensors haven't observed with likely values (in essence, interpolating).\n",
        "\n",
        "### The data\n",
        "We know that every ray that there's an object at the point each ray hit, and we also know that there's no object between the camera and the contact point.\n",
        "The data is provided as (x, y) pairs, where some points correspond to places we know are on object boundaries (shown in green above) and points we know are not inside objects (shown in red above).\n",
        "\n",
        "These points come in two data files: `data/positives.txt` for points on the edge of objects, and `data/negatives.txt` for points outside of objects.\n",
        "To generate these files, run `make_data.py`.\n",
        "\n",
        "(Check out the code if you want to see how the points are generated, but don't change anything!)\n",
        "\n",
        "### The model\n",
        "We want to store a full description of the scene in the weights of a neural network.\n",
        "To do this, we'll train a FCN to classify (x, y) points by whether or not they are the edge of a wall or object.\n",
        "Then, we can draw the scene by sampling (x, y) pairs and drawing the model's output.\n",
        "So, the network has \"memorized\" where the objects and walls are, and what their shapes are."
      ]
    },
    {
      "cell_type": "markdown",
      "metadata": {
        "id": "OVBFUhhQcyRe"
      },
      "source": [
        "# Section 1: Load the data\n",
        "Load the data using `np.loadtxt()` (default arguments should work), then convert it to a usable format with a feature array and label array, which is 1 if a point is the edge of an object and 0 if it is not.\n",
        "\n",
        "Functions to look at:\n",
        " - `np.loadtxt`\n",
        " - `np.concatenate`"
      ]
    },
    {
      "cell_type": "code",
      "execution_count": 2,
      "metadata": {
        "id": "2LlZqkRKcyRe"
      },
      "outputs": [],
      "source": [
        "positives = np.loadtxt('data/positives.txt')\n",
        "negatives = np.loadtxt('data/negatives.txt')\n",
        "\n",
        "ones = np.ones(positives.shape[0])\n",
        "zeros = np.zeros(negatives.shape[0])\n",
        "\n",
        "dataset = np.concatenate([np.concatenate([positives, np.expand_dims(ones, axis=1)], axis=1),\n",
        "                          np.concatenate([negatives, np.expand_dims(zeros, axis=1)], axis=1)])\n",
        "\n",
        "np.random.shuffle(dataset)\n",
        "features = dataset[:, :2]\n",
        "labels = dataset[:, 2]"
      ]
    },
    {
      "cell_type": "markdown",
      "metadata": {
        "id": "cFoanSwWcyRe"
      },
      "source": [
        "# Section 2: Build a data pipeline\n",
        "Set up a `tf.data.Dataset` and a `tf.summary.SummaryWriter`.\n",
        "This time, there's no test set, just a single dataset. You may want to use the `repeat` method on the dataset for the number of desired epochs. If so, call it after caching so as not to store redundant data."
      ]
    },
    {
      "cell_type": "code",
      "execution_count": 3,
      "metadata": {
        "id": "KxCG-K6ncyRe"
      },
      "outputs": [],
      "source": [
        "n_epochs = 10\n",
        "batch_size = 100\n",
        "num_features = 2\n",
        "learning_rate = 1e-3\n",
        "momentum = .9\n",
        "model_name = 'model'"
      ]
    },
    {
      "cell_type": "code",
      "execution_count": 4,
      "metadata": {
        "id": "8_UCGYjfgdt0"
      },
      "outputs": [
        {
          "name": "stdout",
          "output_type": "stream",
          "text": [
            "Metal device set to: Apple M1 Pro\n",
            "\n",
            "systemMemory: 16.00 GB\n",
            "maxCacheSize: 5.33 GB\n",
            "\n"
          ]
        }
      ],
      "source": [
        "shuffle_amt = 500\n",
        "dataset_train = tf.data.Dataset.from_tensor_slices((features, labels)).shuffle(shuffle_amt).batch(batch_size).repeat(n_epochs)"
      ]
    },
    {
      "cell_type": "code",
      "execution_count": null,
      "metadata": {
        "id": "tC1qIwMjgw9G"
      },
      "outputs": [],
      "source": [
        "train_writer = tf.summary.create_file_writer('./logs_lab_3/train')"
      ]
    },
    {
      "cell_type": "markdown",
      "metadata": {
        "id": "ubLH6XEscyRe"
      },
      "source": [
        "# Section 3: Build a model graph\n",
        "The model is a simple fully-connected neural network with four hidden layers, each with 64 units, and an output layer that performs binary classification with sigmoid activation.\n",
        "Recall that the input is just a pair (x, y).\n",
        "\n",
        "Functions to look at throughout:\n",
        " - `tf.cast`\n",
        " - `tf.expand_dims`\n",
        " - `tf.squeeze`\n",
        " - arithmetic operations"
      ]
    },
    {
      "cell_type": "markdown",
      "metadata": {
        "id": "bD8Y6ZAncyRe"
      },
      "source": [
        "### 3.1: Class to make dense layers\n",
        "It's tedious (and bad design) to explicitly write out every variable, matrix multiplication, etc.\n",
        "Instead, it's common to define classes that create one of a structure you expect to repeat in your model.\n",
        "\n",
        "Write a `tf.Module` class called `Dense`, which has its signature and scopes defined as a stub below.\n",
        "When called, it should add variables and operations to the graph which implement a single dense layer.\n",
        "\n",
        "If `do_activation` is True, it should apply ReLU activation to the computed values.\n",
        "To do this, you can use `tf.nn.relu`."
      ]
    },
    {
      "cell_type": "code",
      "execution_count": null,
      "metadata": {
        "id": "4g15UqQPcyRe"
      },
      "outputs": [],
      "source": [
        "class Dense(tf.Module):\n",
        "    '''\n",
        "    Creates a dense layer module.\n",
        "    \n",
        "    Parameters\n",
        "    ----------\n",
        "    dim_input: int\n",
        "        Number of features in the input representation.\n",
        "    dim_output: int\n",
        "        Number of features in the output representation.\n",
        "        Equivalently, number of units in this layer.\n",
        "    do_activation: bool\n",
        "        Whether or not to apply ReLU activation.\n",
        "    postfix: string\n",
        "        Postfix on name scopes in this layer.\n",
        "        Used to simplify visualizations.\n",
        "    name: string\n",
        "        Name of layer.\n",
        "        \n",
        "    Returns\n",
        "    -------\n",
        "    A tensor representing the activations of this layer.\n",
        "    '''\n",
        "    def __init__(self, dim_input, dim_output, do_activation=True, postfix='', name=None):\n",
        "        super().__init__(name=name)\n",
        "        with tf.name_scope('dense' + postfix):\n",
        "            self.w = tf.Variable(tf.random.normal([dim_input, dim_output]), name='w')\n",
        "            self.b = tf.Variable(tf.zeros([dim_output]), name='b')\n",
        "            self.do_activation = do_activation\n",
        "        \n",
        "    def __call__(self, x):\n",
        "        y = tf.matmul(x, tf.cast(self.w, dtype=tf.float64)) + tf.cast(self.b, dtype=tf.float64)\n",
        "        if self.do_activation:\n",
        "            return tf.nn.relu(y)\n",
        "        return y"
      ]
    },
    {
      "cell_type": "markdown",
      "metadata": {
        "id": "05i4-O2DcyRf"
      },
      "source": [
        "### 3.2: Class to make neural network\n",
        "Use the `Dense` class to make four dense layers contained as fields in a `tf.Module` class called `FeedForward`.\n",
        "Each should have 64 units, the correct input dimensions, and a distinct (and meaningful) postfix."
      ]
    },
    {
      "cell_type": "markdown",
      "metadata": {
        "id": "emHiluNscyRf"
      },
      "source": [
        "#### 3.2.1: Compute logit\n",
        "Use the `Dense` class to make a final dense layer with `dim_output=1` to compute the final logit. You'll want to put this in a method called `logits` which should take in `self` and an input."
      ]
    },
    {
      "cell_type": "markdown",
      "metadata": {
        "id": "0_qRKrjXcyRf"
      },
      "source": [
        "#### 3.2.2: Compute class probability for output\n",
        "Use `tf.sigmoid` to compute the probability that the input coordinate is a boundary point.\n",
        "We will not use this for the loss, just for the output. You'll want to put this in the `__call__` method."
      ]
    },
    {
      "cell_type": "markdown",
      "metadata": {
        "id": "VyivDZUhcyRf"
      },
      "source": [
        "#### 3.2.3: Trace function\n",
        "Decorate the `__call__` method with `@tf.function` in order to run a model trace for TensorBoard. I have defined this method for you here, but will not in the future."
      ]
    },
    {
      "cell_type": "code",
      "execution_count": null,
      "metadata": {
        "id": "YbR9hFYHcyRf"
      },
      "outputs": [],
      "source": [
        "class FeedForward(tf.Module):\n",
        "    def __init__(self, name=None):\n",
        "        self.dense_layers = []\n",
        "        self.output_layer = None\n",
        "        dim_input = num_features\n",
        "        dim_output = 64\n",
        "        for i in range(4):\n",
        "            postfix = f\"_layer_1_postfix\"\n",
        "            name = f\"layer_{i}\"\n",
        "            self.dense_layers.append(Dense(dim_input, dim_output, postfix=postfix, name=name))\n",
        "            dim_input = dim_output\n",
        "    \n",
        "    def logits(self, x):\n",
        "        for layer in self.dense_layers:\n",
        "            x = layer(x)\n",
        "        if self.output_layer is None:\n",
        "            self.output_layer = Dense(dim_input=64, dim_output=1, do_activation=False, postfix='_output_layer_postfix')\n",
        "        return self.output_layer(x)\n",
        "\n",
        "    @tf.function\n",
        "    def __call__(self, x):\n",
        "        return tf.sigmoid(self.logits(x))"
      ]
    },
    {
      "cell_type": "markdown",
      "metadata": {
        "id": "ii9cMzrMcyRf"
      },
      "source": [
        "### 3.3: Compute weighted cross-entropy loss\n",
        "There are about 33 times as many non-boundary coordinates as there are boundary coordinates.\n",
        "To prevent the network from just learning to predict that every coordinate is not a boundary, we should weight the loss function to consider boundary pixels more heavily.\n",
        "\n",
        "To do this, use `tf.nn.weighted_cross_entropy_with_logits()` on the logits computed before, plus the input label, and a positive weight of 20.\n",
        "Then, produce the mean loss for the batch with `tf.reduce_mean`. Put this in a `_loss` method."
      ]
    },
    {
      "cell_type": "code",
      "execution_count": null,
      "metadata": {
        "id": "P2uVhwwYcyRf"
      },
      "outputs": [],
      "source": [
        "def _loss(label, logits):\n",
        "    loss = tf.nn.weighted_cross_entropy_with_logits(label, tf.squeeze(logits), pos_weight=20)\n",
        "    return tf.reduce_mean(loss)"
      ]
    },
    {
      "cell_type": "markdown",
      "metadata": {
        "id": "oH_KoRhbcyRg"
      },
      "source": [
        "### 3.4: Optimizer and gradients\n",
        "Make an optimizer (I used `tf.optimizers.SGD` with `learning_rate=2e-3` and `momentum=0.9`).\n",
        "Then write a train method (taking in a model, input, output, and step), that represents one step of training, where you explicitly compute the gradients in a variable called `gradients` (so we can plot them below) and make an operation that applies those gradients to the graph.\n",
        "\n",
        "Note: don't use `optimizer.minimize`, which will result in computing the gradients twice since we already have them from `GradientTape.gradient`. Add a summary scalar to plot loss in TensorBoard."
      ]
    },
    {
      "cell_type": "markdown",
      "metadata": {
        "id": "bNpgNyHNcyRg"
      },
      "source": [
        "#### 3.4.1: Plot variables and gradients\n",
        "You don't need to do this for every model, but it's illustrative to do at least once. I've written the code for this below, with a pattern borrowed from http://matpalm.com/blog/viz_gradient_norms/. Put this code snippet under the same `with` block where you add your loss summary scalar.\n",
        "\n",
        "```\n",
        "for gradient, variable in zip(gradients, model.trainable_variables):\n",
        "    if variable.name and gradient is not None:\n",
        "        tf.summary.histogram('gradients/' + variable.name, tf.norm(gradient), step=i)\n",
        "        tf.summary.histogram('variables/' + variable.name, tf.norm(variable), step=i)\n",
        "```"
      ]
    },
    {
      "cell_type": "code",
      "execution_count": null,
      "metadata": {
        "id": "h1JOSn6HcyRg"
      },
      "outputs": [],
      "source": [
        "optimizer = tf.optimizers.legacy.SGD(learning_rate=learning_rate, momentum=momentum)\n",
        "\n",
        "def train(model, x, y, i):\n",
        "    with tf.GradientTape() as tape:\n",
        "        loss = _loss(y, model(x))\n",
        "\n",
        "    gradients = tape.gradient(loss, model.trainable_variables)\n",
        "    optimizer.apply_gradients(zip(gradients, model.trainable_variables))\n",
        "\n",
        "    with train_writer.as_default():\n",
        "        tf.summary.scalar('loss', loss, step=i)\n",
        "\n",
        "        for gradient, variable in zip(gradients, model.trainable_variables):\n",
        "            if variable.name and gradient is not None:\n",
        "                tf.summary.histogram('gradients/' + variable.name, tf.norm(gradient), step=i)\n",
        "                tf.summary.histogram('variables/' + variable.name, tf.norm(variable), step=i)\n",
        "    return loss"
      ]
    },
    {
      "cell_type": "markdown",
      "metadata": {
        "id": "HYGuERKbcyRg"
      },
      "source": [
        "# Section 4: train the model\n",
        "Same as last time, except there's no test set.\n",
        "You don't need to distinguish between epochs and steps here, but do run a full trace on the first batch to get the model graph in TensorBoard.\n",
        "\n",
        "I used 50 epochs, and got a final cross-entropy loss of about 0.4.\n",
        "You might not need to use this many epochs to get reasonable results, but more will get crisper results.\n",
        "\n",
        "This might take a while on CPUs, so if it's taking too long, think about:\n",
        " - Using Google Colaboratory\n",
        " - Increasing your batch size\n",
        " - Reducing the frequency with which you run summary ops\n",
        " \n",
        "Watching plots, histograms, etc in TensorBoard as the model trains can be fun."
      ]
    },
    {
      "cell_type": "code",
      "execution_count": null,
      "metadata": {
        "colab": {
          "background_save": true,
          "base_uri": "https://localhost:8080/"
        },
        "id": "i7et6Hg9cyRg",
        "outputId": "1fc039ca-a4a9-4d47-cd46-71b1159a4b95"
      },
      "outputs": [
        {
          "name": "stderr",
          "output_type": "stream",
          "text": [
            "WARNING:tensorflow:From /usr/local/lib/python3.10/dist-packages/tensorflow/python/ops/summary_ops_v2.py:1332: start (from tensorflow.python.eager.profiler) is deprecated and will be removed after 2020-07-01.\n",
            "Instructions for updating:\n",
            "use `tf.profiler.experimental.start` instead.\n",
            "WARNING:tensorflow:From /usr/local/lib/python3.10/dist-packages/tensorflow/python/ops/summary_ops_v2.py:1383: stop (from tensorflow.python.eager.profiler) is deprecated and will be removed after 2020-07-01.\n",
            "Instructions for updating:\n",
            "use `tf.profiler.experimental.stop` instead.\n",
            "WARNING:tensorflow:From /usr/local/lib/python3.10/dist-packages/tensorflow/python/ops/summary_ops_v2.py:1383: save (from tensorflow.python.eager.profiler) is deprecated and will be removed after 2020-07-01.\n",
            "Instructions for updating:\n",
            "`tf.python.eager.profiler` has deprecated, use `tf.profiler` instead.\n",
            "WARNING:tensorflow:From /usr/local/lib/python3.10/dist-packages/tensorflow/python/eager/profiler.py:150: maybe_create_event_file (from tensorflow.python.eager.profiler) is deprecated and will be removed after 2020-07-01.\n",
            "Instructions for updating:\n",
            "`tf.python.eager.profiler` has deprecated, use `tf.profiler` instead.\n"
          ]
        },
        {
          "name": "stdout",
          "output_type": "stream",
          "text": [
            "Epoch:\t 0\n",
            "Average Test Set Loss:\t 1.2906545413707737\n",
            "Epoch:\t 1\n",
            "Average Test Set Loss:\t 1.0998934054291993\n",
            "Epoch:\t 2\n",
            "Average Test Set Loss:\t 1.0794294139791931\n",
            "Epoch:\t 3\n",
            "Average Test Set Loss:\t 1.0795379562574676\n",
            "Epoch:\t 4\n",
            "Average Test Set Loss:\t 1.0796103177763172\n",
            "Epoch:\t 5\n",
            "Average Test Set Loss:\t 1.0795017754980427\n",
            "Epoch:\t 6\n",
            "Average Test Set Loss:\t 1.0795017754980427\n",
            "Epoch:\t 7\n",
            "Average Test Set Loss:\t 1.0795379562574676\n",
            "Epoch:\t 8\n",
            "Average Test Set Loss:\t 1.0796826792951668\n",
            "Epoch:\t 9\n",
            "Average Test Set Loss:\t 1.0796103177763172\n"
          ]
        }
      ],
      "source": [
        "model = FeedForward()\n",
        "train_batch = 0\n",
        "test_batch = 0\n",
        "\n",
        "for i in range(n_epochs):\n",
        "    train_losses = []\n",
        "    for x, y in dataset_train:  \n",
        "        if train_batch == 0:\n",
        "            tf.summary.trace_on(graph=True, profiler=True)\n",
        "            with train_writer.as_default():\n",
        "                tf.summary.trace_export(name='first training batch', step=0, profiler_outdir='./logs_lab_3')\n",
        "        loss = train(model, x, y, train_batch)\n",
        "        train_losses.append(loss)\n",
        "        train_batch += 1\n",
        "\n",
        "    print('Epoch:\\t', i)\n",
        "    print('Average Test Set Loss:\\t', np.mean(train_losses))"
      ]
    },
    {
      "cell_type": "code",
      "execution_count": null,
      "metadata": {
        "colab": {
          "base_uri": "https://localhost:8080/",
          "height": 35
        },
        "id": "yd7ESjyUq7Sc",
        "outputId": "2c23c422-a6a2-4110-a7a4-98717c3cc0a0"
      },
      "outputs": [
        {
          "data": {
            "application/vnd.google.colaboratory.intrinsic+json": {
              "type": "string"
            },
            "text/plain": [
              "'./lab/model'"
            ]
          },
          "execution_count": 13,
          "metadata": {},
          "output_type": "execute_result"
        }
      ],
      "source": [
        "checkpoint = tf.train.Checkpoint(model=model)\n",
        "checkpoint.write('./lab/model')"
      ]
    },
    {
      "cell_type": "markdown",
      "metadata": {
        "id": "N7p14IrNcyRg"
      },
      "source": [
        "# Section 5: Plot the model\n",
        "Let's see what the network learned.\n",
        "Generate 100 x values and 100 y values, each in the range (-1, 1).\n",
        "Then compute the value of `probability` (the sigmoid output of your model) using every coordinate in that grid (every pairwise combination of x and y values), and plot a \"map\" of those probabilities using `plt.scatter()` (check out the `c` argument)."
      ]
    },
    {
      "cell_type": "code",
      "execution_count": null,
      "metadata": {
        "colab": {
          "base_uri": "https://localhost:8080/"
        },
        "id": "N5cu9Gaarbdy",
        "outputId": "bd70fabd-e59b-4eb2-b02a-c6fd76767830"
      },
      "outputs": [
        {
          "data": {
            "text/plain": [
              "<tensorflow.python.checkpoint.checkpoint.CheckpointLoadStatus at 0x7fb52eab8400>"
            ]
          },
          "execution_count": 14,
          "metadata": {},
          "output_type": "execute_result"
        }
      ],
      "source": [
        "new_model = FeedForward()\n",
        "new_check = tf.train.Checkpoint(model=new_model)\n",
        "new_check.restore('./lab/model')"
      ]
    },
    {
      "cell_type": "code",
      "execution_count": null,
      "metadata": {
        "colab": {
          "base_uri": "https://localhost:8080/",
          "height": 484
        },
        "id": "JbcTHgSscyRg",
        "outputId": "052ff8cb-f98e-4808-e0d1-a6e57ac60a22"
      },
      "outputs": [
        {
          "name": "stderr",
          "output_type": "stream",
          "text": [
            "<ipython-input-15-9af4229d8fa6>:10: UserWarning: No data for colormapping provided via 'c'. Parameters 'cmap' will be ignored\n",
            "  plt.scatter(x_vals, y_vals, probs, cmap='PRGn')\n"
          ]
        },
        {
          "data": {
            "text/plain": [
              "<matplotlib.collections.PathCollection at 0x7fb52e9b4760>"
            ]
          },
          "execution_count": 15,
          "metadata": {},
          "output_type": "execute_result"
        },
        {
          "data": {
            "image/png": "[encoded data removed]",
            "text/plain": [
              "<Figure size 640x480 with 1 Axes>"
            ]
          },
          "metadata": {},
          "output_type": "display_data"
        }
      ],
      "source": [
        "x_vals = [np.random.rand()*2 - 1 for i in range(100)]\n",
        "y_vals = [np.random.rand()*2 - 1 for i in range(100)]\n",
        "coords = np.column_stack([x_vals, y_vals])\n",
        "probs = []\n",
        "\n",
        "for c in coords:\n",
        "    prob = new_model(tf.transpose(np.expand_dims(c, 1)))\n",
        "    probs.append(prob)\n",
        "\n",
        "plt.scatter(x_vals, y_vals, probs, cmap='PRGn')"
      ]
    },
    {
      "cell_type": "markdown",
      "metadata": {
        "id": "4P2eNDgNcyRg"
      },
      "source": [
        "# Section 6: TensorBoard plots\n",
        "This time, we have some more interesting TensorBoard plots than last time.\n",
        "Run TensorBoard, and look at:\n",
        " - The model graph in Graphs\n",
        " - The loss over time in Scalars\n",
        " - The weights, biases, and gradients over time in Distributions and Histograms\n",
        " \n",
        "The loss should decrease over time, and eventually stabilize (with some noise).\n",
        "\n",
        "The gradients for weights and biases may not go to zero, and your weights and biases may not look like they're converging.\n",
        "This is because of \"bias drift\" where multiple possible settings of weights and biases have the same loss value.\n",
        "To fix this, we could add a term to the loss which penalizes the model slightly based on the magnitude of the bias terms."
      ]
    },
    {
      "cell_type": "code",
      "execution_count": null,
      "metadata": {
        "id": "N1zwDeFsr5Pe"
      },
      "outputs": [],
      "source": [
        "%load_ext tensorboard"
      ]
    },
    {
      "cell_type": "markdown",
      "metadata": {
        "id": "ZcAfamtlcyRg"
      },
      "source": [
        "# Section 7: Again, but in Keras\n",
        "Make a Keras Sequential model which is equivalent to the one we've trained in TensorFlow.\n",
        "Train it on the same dataset, and again plot its output in the same way. \n",
        "\n",
        "Hints:\n",
        " - This won't take nearly as long as the previous sections\n",
        " - You don't need to use `keras.utils.to_categorical` since this is binary classification.\n",
        " - The appropriate loss function is 'binary_crossentropy'\n",
        " - To implement the same loss weighting, use `class_weight={0: 1.0, 1:20.0}` in `model.fit()`\n",
        " - You can get the outputs of the model over the entire grid at once with `model.predict()`"
      ]
    },
    {
      "cell_type": "markdown",
      "metadata": {
        "id": "3nvsUk6acyRg"
      },
      "source": [
        "### 7.1: Build a model\n",
        "Use `keras.models.Sequential` to build the same FCN as before."
      ]
    },
    {
      "cell_type": "code",
      "execution_count": null,
      "metadata": {
        "id": "2gyBTFTpcyRh"
      },
      "outputs": [],
      "source": [
        "FCN = tf.keras.Sequential([tf.keras.layers.Dense(64, input_shape=(2, ), activation='relu'),\n",
        "                           tf.keras.layers.Dense(64, activation='relu'),\n",
        "                           tf.keras.layers.Dense(64, activation='relu'), \n",
        "                           tf.keras.layers.Dense(64, activation='relu'),\n",
        "                           tf.keras.layers.Dense(1, activation='sigmoid')])"
      ]
    },
    {
      "cell_type": "markdown",
      "metadata": {
        "id": "G-TTz3iDcyRh"
      },
      "source": [
        "### 7.2: Define an optimizer and compile the model"
      ]
    },
    {
      "cell_type": "code",
      "execution_count": null,
      "metadata": {
        "id": "wRvPA19PcyRh"
      },
      "outputs": [],
      "source": [
        "from keras.optimizers import SGD\n",
        "optimizer = SGD(lr=learning_rate, momentum=momentum)"
      ]
    },
    {
      "cell_type": "markdown",
      "metadata": {
        "id": "R0hcjoo3cyRh"
      },
      "source": [
        "### 7.3: Fit the model"
      ]
    },
    {
      "cell_type": "code",
      "execution_count": null,
      "metadata": {
        "colab": {
          "base_uri": "https://localhost:8080/"
        },
        "id": "kbpsDk_FcyRh",
        "outputId": "8a23d2b3-007d-4169-e001-24537e1eb1da"
      },
      "outputs": [
        {
          "name": "stdout",
          "output_type": "stream",
          "text": [
            "Epoch 1/10\n",
            "286/286 [==============================] - 1s 2ms/step - loss: 1.0425 - accuracy: 0.9493\n",
            "Epoch 2/10\n",
            "286/286 [==============================] - 1s 2ms/step - loss: 1.0263 - accuracy: 0.9707\n",
            "Epoch 3/10\n",
            "286/286 [==============================] - 1s 2ms/step - loss: 1.0200 - accuracy: 0.9707\n",
            "Epoch 4/10\n",
            "286/286 [==============================] - 1s 2ms/step - loss: 1.0139 - accuracy: 0.9707\n",
            "Epoch 5/10\n",
            "286/286 [==============================] - 1s 2ms/step - loss: 1.0060 - accuracy: 0.9707\n",
            "Epoch 6/10\n",
            "286/286 [==============================] - 1s 3ms/step - loss: 0.9954 - accuracy: 0.9706\n",
            "Epoch 7/10\n",
            "286/286 [==============================] - 1s 3ms/step - loss: 0.9828 - accuracy: 0.9650\n",
            "Epoch 8/10\n",
            "286/286 [==============================] - 1s 4ms/step - loss: 0.9690 - accuracy: 0.9459\n",
            "Epoch 9/10\n",
            "286/286 [==============================] - 1s 3ms/step - loss: 0.9545 - accuracy: 0.9051\n",
            "Epoch 10/10\n",
            "286/286 [==============================] - 1s 3ms/step - loss: 0.9410 - accuracy: 0.8650\n"
          ]
        },
        {
          "data": {
            "text/plain": [
              "<keras.callbacks.History at 0x7fb52b70f4c0>"
            ]
          },
          "execution_count": 28,
          "metadata": {},
          "output_type": "execute_result"
        }
      ],
      "source": [
        "FCN.compile(optimizer=optimizer, loss='binary_crossentropy', metrics=['accuracy'])\n",
        "FCN.fit(features, labels, epochs=n_epochs, batch_size=batch_size, class_weight={0: 1.0, 1:20.0})"
      ]
    },
    {
      "cell_type": "markdown",
      "metadata": {
        "id": "fBAHyHSBcyRh"
      },
      "source": [
        "### 7.4: Plot the model"
      ]
    },
    {
      "cell_type": "code",
      "execution_count": null,
      "metadata": {
        "colab": {
          "base_uri": "https://localhost:8080/",
          "height": 501
        },
        "id": "vdEVo9BrcyRh",
        "outputId": "d99b8cd4-993b-41a4-b11e-24fdc94cfccc"
      },
      "outputs": [
        {
          "name": "stdout",
          "output_type": "stream",
          "text": [
            "4/4 [==============================] - 0s 3ms/step\n"
          ]
        },
        {
          "name": "stderr",
          "output_type": "stream",
          "text": [
            "<ipython-input-31-41a16551f074>:2: UserWarning: No data for colormapping provided via 'c'. Parameters 'cmap' will be ignored\n",
            "  plt.scatter(x_vals, y_vals, pred, cmap='PRGn')\n"
          ]
        },
        {
          "data": {
            "text/plain": [
              "<matplotlib.collections.PathCollection at 0x7fb52bc8d840>"
            ]
          },
          "execution_count": 31,
          "metadata": {},
          "output_type": "execute_result"
        },
        {
          "data": {
            "image/png": "[encoded data removed]",
            "text/plain": [
              "<Figure size 640x480 with 1 Axes>"
            ]
          },
          "metadata": {},
          "output_type": "display_data"
        }
      ],
      "source": [
        "pred = FCN.predict(coords)\n",
        "plt.scatter(x_vals, y_vals, pred, cmap='PRGn')"
      ]
    }
  ],
  "metadata": {
    "colab": {
      "provenance": []
    },
    "kernelspec": {
      "display_name": "Python 3",
      "language": "python",
      "name": "python3"
    },
    "language_info": {
      "codemirror_mode": {
        "name": "ipython",
        "version": 3
      },
      "file_extension": ".py",
      "mimetype": "text/x-python",
      "name": "python",
      "nbconvert_exporter": "python",
      "pygments_lexer": "ipython3",
      "version": "3.9.16"
    }
  },
  "nbformat": 4,
  "nbformat_minor": 0
}
